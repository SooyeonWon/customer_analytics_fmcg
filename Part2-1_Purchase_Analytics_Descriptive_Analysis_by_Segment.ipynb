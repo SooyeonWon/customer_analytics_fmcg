{
 "cells": [
  {
   "cell_type": "markdown",
   "metadata": {},
   "source": [
    "# Customer Analytics in FMGC Industry (Part 2)\n",
    "\n",
    "### Keywords in Part 2\n",
    "- Purchase Analytics \n",
    "- Descriptive Analysis by Segments\n",
    "- Marketing Mix \n",
    "- STP framework (Segmentation, Targeting, Positioning) \n",
    "- Data Visualisations \n",
    "\n",
    "### Contents \n",
    "\n",
    "<ul>\n",
    "<li><a href=\"#Introduction\">(Part 1) 1. Introduction</a></li> \n",
    "<li><a href=\"#Preparation\">(Part 1) 2. Data Preparation</a></li>\n",
    "<li><a href=\"#Exploration\">(Part 1) 3. Data Exploration</a></li>\n",
    "<li><a href=\"#Analysis\">4. Data Analysis</a></li>\n",
    "        (Part 1) 4.1. Customer Analytics<br>\n",
    "        (Part 2) 4.2. Purchase Analytics \n",
    "<li><a href=\"#Conclusion\">(Part 2) 5. Conclusion</a></li>\n",
    "</ul>\n"
   ]
  },
  {
   "cell_type": "markdown",
   "metadata": {},
   "source": [
    "## 4. Data Analysis\n",
    "### 4.2. Purchase Analytics\n",
    "- i.  Datasets from the Analysis Part 1\n",
    "- ii. Data Segmentation based on Part 1\n",
    "- iii.Descriptive Analysis by Segments\n",
    "- iv. Predictive Analysis by Segments \n",
    "\n",
    "### i. Datasets from the Analysis Part 1"
   ]
  },
  {
   "cell_type": "code",
   "execution_count": 1,
   "metadata": {},
   "outputs": [],
   "source": [
    "# Import the relevant libraries \n",
    "import numpy as np\n",
    "import pandas as pd\n",
    "\n",
    "import matplotlib.pyplot as plt \n",
    "%matplotlib inline\n",
    "plt.rc(\"font\", size=14)\n",
    "import seaborn as sns\n",
    "sns.set()\n",
    "sns.set(style=\"whitegrid\", color_codes=True)\n",
    "\n",
    "from sklearn.preprocessing import StandardScaler \n",
    "from sklearn.decomposition import PCA \n",
    "from sklearn.cluster import KMeans \n",
    "\n",
    "import pickle"
   ]
  },
  {
   "cell_type": "code",
   "execution_count": 2,
   "metadata": {},
   "outputs": [],
   "source": [
    "# Load the dataset\n",
    "purchase_df = pd.read_csv('purchase data.csv', index_col = 0)"
   ]
  },
  {
   "cell_type": "code",
   "execution_count": 3,
   "metadata": {
    "scrolled": true
   },
   "outputs": [
    {
     "data": {
      "text/html": [
       "<div>\n",
       "<style scoped>\n",
       "    .dataframe tbody tr th:only-of-type {\n",
       "        vertical-align: middle;\n",
       "    }\n",
       "\n",
       "    .dataframe tbody tr th {\n",
       "        vertical-align: top;\n",
       "    }\n",
       "\n",
       "    .dataframe thead th {\n",
       "        text-align: right;\n",
       "    }\n",
       "</style>\n",
       "<table border=\"1\" class=\"dataframe\">\n",
       "  <thead>\n",
       "    <tr style=\"text-align: right;\">\n",
       "      <th></th>\n",
       "      <th>Day</th>\n",
       "      <th>Incidence</th>\n",
       "      <th>Brand</th>\n",
       "      <th>Quantity</th>\n",
       "      <th>Last_Inc_Brand</th>\n",
       "      <th>Last_Inc_Quantity</th>\n",
       "      <th>Price_1</th>\n",
       "      <th>Price_2</th>\n",
       "      <th>Price_3</th>\n",
       "      <th>Price_4</th>\n",
       "      <th>...</th>\n",
       "      <th>Promotion_3</th>\n",
       "      <th>Promotion_4</th>\n",
       "      <th>Promotion_5</th>\n",
       "      <th>Sex</th>\n",
       "      <th>Marital status</th>\n",
       "      <th>Age</th>\n",
       "      <th>Education</th>\n",
       "      <th>Income</th>\n",
       "      <th>Occupation</th>\n",
       "      <th>Settlement size</th>\n",
       "    </tr>\n",
       "    <tr>\n",
       "      <th>ID</th>\n",
       "      <th></th>\n",
       "      <th></th>\n",
       "      <th></th>\n",
       "      <th></th>\n",
       "      <th></th>\n",
       "      <th></th>\n",
       "      <th></th>\n",
       "      <th></th>\n",
       "      <th></th>\n",
       "      <th></th>\n",
       "      <th></th>\n",
       "      <th></th>\n",
       "      <th></th>\n",
       "      <th></th>\n",
       "      <th></th>\n",
       "      <th></th>\n",
       "      <th></th>\n",
       "      <th></th>\n",
       "      <th></th>\n",
       "      <th></th>\n",
       "      <th></th>\n",
       "    </tr>\n",
       "  </thead>\n",
       "  <tbody>\n",
       "    <tr>\n",
       "      <th>200000001</th>\n",
       "      <td>1</td>\n",
       "      <td>0</td>\n",
       "      <td>0</td>\n",
       "      <td>0</td>\n",
       "      <td>0</td>\n",
       "      <td>0</td>\n",
       "      <td>1.59</td>\n",
       "      <td>1.87</td>\n",
       "      <td>2.01</td>\n",
       "      <td>2.09</td>\n",
       "      <td>...</td>\n",
       "      <td>0</td>\n",
       "      <td>0</td>\n",
       "      <td>0</td>\n",
       "      <td>0</td>\n",
       "      <td>0</td>\n",
       "      <td>47</td>\n",
       "      <td>1</td>\n",
       "      <td>110866</td>\n",
       "      <td>1</td>\n",
       "      <td>0</td>\n",
       "    </tr>\n",
       "    <tr>\n",
       "      <th>200000001</th>\n",
       "      <td>11</td>\n",
       "      <td>0</td>\n",
       "      <td>0</td>\n",
       "      <td>0</td>\n",
       "      <td>0</td>\n",
       "      <td>0</td>\n",
       "      <td>1.51</td>\n",
       "      <td>1.89</td>\n",
       "      <td>1.99</td>\n",
       "      <td>2.09</td>\n",
       "      <td>...</td>\n",
       "      <td>0</td>\n",
       "      <td>0</td>\n",
       "      <td>0</td>\n",
       "      <td>0</td>\n",
       "      <td>0</td>\n",
       "      <td>47</td>\n",
       "      <td>1</td>\n",
       "      <td>110866</td>\n",
       "      <td>1</td>\n",
       "      <td>0</td>\n",
       "    </tr>\n",
       "    <tr>\n",
       "      <th>200000001</th>\n",
       "      <td>12</td>\n",
       "      <td>0</td>\n",
       "      <td>0</td>\n",
       "      <td>0</td>\n",
       "      <td>0</td>\n",
       "      <td>0</td>\n",
       "      <td>1.51</td>\n",
       "      <td>1.89</td>\n",
       "      <td>1.99</td>\n",
       "      <td>2.09</td>\n",
       "      <td>...</td>\n",
       "      <td>0</td>\n",
       "      <td>0</td>\n",
       "      <td>0</td>\n",
       "      <td>0</td>\n",
       "      <td>0</td>\n",
       "      <td>47</td>\n",
       "      <td>1</td>\n",
       "      <td>110866</td>\n",
       "      <td>1</td>\n",
       "      <td>0</td>\n",
       "    </tr>\n",
       "    <tr>\n",
       "      <th>200000001</th>\n",
       "      <td>16</td>\n",
       "      <td>0</td>\n",
       "      <td>0</td>\n",
       "      <td>0</td>\n",
       "      <td>0</td>\n",
       "      <td>0</td>\n",
       "      <td>1.52</td>\n",
       "      <td>1.89</td>\n",
       "      <td>1.98</td>\n",
       "      <td>2.09</td>\n",
       "      <td>...</td>\n",
       "      <td>0</td>\n",
       "      <td>0</td>\n",
       "      <td>0</td>\n",
       "      <td>0</td>\n",
       "      <td>0</td>\n",
       "      <td>47</td>\n",
       "      <td>1</td>\n",
       "      <td>110866</td>\n",
       "      <td>1</td>\n",
       "      <td>0</td>\n",
       "    </tr>\n",
       "    <tr>\n",
       "      <th>200000001</th>\n",
       "      <td>18</td>\n",
       "      <td>0</td>\n",
       "      <td>0</td>\n",
       "      <td>0</td>\n",
       "      <td>0</td>\n",
       "      <td>0</td>\n",
       "      <td>1.52</td>\n",
       "      <td>1.89</td>\n",
       "      <td>1.99</td>\n",
       "      <td>2.09</td>\n",
       "      <td>...</td>\n",
       "      <td>0</td>\n",
       "      <td>0</td>\n",
       "      <td>0</td>\n",
       "      <td>0</td>\n",
       "      <td>0</td>\n",
       "      <td>47</td>\n",
       "      <td>1</td>\n",
       "      <td>110866</td>\n",
       "      <td>1</td>\n",
       "      <td>0</td>\n",
       "    </tr>\n",
       "  </tbody>\n",
       "</table>\n",
       "<p>5 rows × 23 columns</p>\n",
       "</div>"
      ],
      "text/plain": [
       "           Day  Incidence  Brand  Quantity  Last_Inc_Brand  Last_Inc_Quantity  \\\n",
       "ID                                                                              \n",
       "200000001    1          0      0         0               0                  0   \n",
       "200000001   11          0      0         0               0                  0   \n",
       "200000001   12          0      0         0               0                  0   \n",
       "200000001   16          0      0         0               0                  0   \n",
       "200000001   18          0      0         0               0                  0   \n",
       "\n",
       "           Price_1  Price_2  Price_3  Price_4  ...  Promotion_3  Promotion_4  \\\n",
       "ID                                             ...                             \n",
       "200000001     1.59     1.87     2.01     2.09  ...            0            0   \n",
       "200000001     1.51     1.89     1.99     2.09  ...            0            0   \n",
       "200000001     1.51     1.89     1.99     2.09  ...            0            0   \n",
       "200000001     1.52     1.89     1.98     2.09  ...            0            0   \n",
       "200000001     1.52     1.89     1.99     2.09  ...            0            0   \n",
       "\n",
       "           Promotion_5  Sex  Marital status  Age  Education  Income  \\\n",
       "ID                                                                    \n",
       "200000001            0    0               0   47          1  110866   \n",
       "200000001            0    0               0   47          1  110866   \n",
       "200000001            0    0               0   47          1  110866   \n",
       "200000001            0    0               0   47          1  110866   \n",
       "200000001            0    0               0   47          1  110866   \n",
       "\n",
       "           Occupation  Settlement size  \n",
       "ID                                      \n",
       "200000001           1                0  \n",
       "200000001           1                0  \n",
       "200000001           1                0  \n",
       "200000001           1                0  \n",
       "200000001           1                0  \n",
       "\n",
       "[5 rows x 23 columns]"
      ]
     },
     "execution_count": 3,
     "metadata": {},
     "output_type": "execute_result"
    }
   ],
   "source": [
    "purchase_df.head() # Glance at the first dataset(1)"
   ]
  },
  {
   "cell_type": "code",
   "execution_count": 4,
   "metadata": {},
   "outputs": [
    {
     "name": "stdout",
     "output_type": "stream",
     "text": [
      "<class 'pandas.core.frame.DataFrame'>\n",
      "Int64Index: 58693 entries, 200000001 to 200000500\n",
      "Data columns (total 23 columns):\n",
      " #   Column             Non-Null Count  Dtype  \n",
      "---  ------             --------------  -----  \n",
      " 0   Day                58693 non-null  int64  \n",
      " 1   Incidence          58693 non-null  int64  \n",
      " 2   Brand              58693 non-null  int64  \n",
      " 3   Quantity           58693 non-null  int64  \n",
      " 4   Last_Inc_Brand     58693 non-null  int64  \n",
      " 5   Last_Inc_Quantity  58693 non-null  int64  \n",
      " 6   Price_1            58693 non-null  float64\n",
      " 7   Price_2            58693 non-null  float64\n",
      " 8   Price_3            58693 non-null  float64\n",
      " 9   Price_4            58693 non-null  float64\n",
      " 10  Price_5            58693 non-null  float64\n",
      " 11  Promotion_1        58693 non-null  int64  \n",
      " 12  Promotion_2        58693 non-null  int64  \n",
      " 13  Promotion_3        58693 non-null  int64  \n",
      " 14  Promotion_4        58693 non-null  int64  \n",
      " 15  Promotion_5        58693 non-null  int64  \n",
      " 16  Sex                58693 non-null  int64  \n",
      " 17  Marital status     58693 non-null  int64  \n",
      " 18  Age                58693 non-null  int64  \n",
      " 19  Education          58693 non-null  int64  \n",
      " 20  Income             58693 non-null  int64  \n",
      " 21  Occupation         58693 non-null  int64  \n",
      " 22  Settlement size    58693 non-null  int64  \n",
      "dtypes: float64(5), int64(18)\n",
      "memory usage: 10.7 MB\n"
     ]
    }
   ],
   "source": [
    "purchase_df.info() # Glance at the first dataset(2)"
   ]
  },
  {
   "cell_type": "code",
   "execution_count": 5,
   "metadata": {
    "scrolled": false
   },
   "outputs": [
    {
     "data": {
      "text/plain": [
       "Day                  0\n",
       "Incidence            0\n",
       "Brand                0\n",
       "Quantity             0\n",
       "Last_Inc_Brand       0\n",
       "Last_Inc_Quantity    0\n",
       "Price_1              0\n",
       "Price_2              0\n",
       "Price_3              0\n",
       "Price_4              0\n",
       "Price_5              0\n",
       "Promotion_1          0\n",
       "Promotion_2          0\n",
       "Promotion_3          0\n",
       "Promotion_4          0\n",
       "Promotion_5          0\n",
       "Sex                  0\n",
       "Marital status       0\n",
       "Age                  0\n",
       "Education            0\n",
       "Income               0\n",
       "Occupation           0\n",
       "Settlement size      0\n",
       "dtype: int64"
      ]
     },
     "execution_count": 5,
     "metadata": {},
     "output_type": "execute_result"
    }
   ],
   "source": [
    "purchase_df.isnull().sum() # Check missing values "
   ]
  },
  {
   "cell_type": "code",
   "execution_count": 6,
   "metadata": {
    "scrolled": true
   },
   "outputs": [
    {
     "data": {
      "text/plain": [
       "0"
      ]
     },
     "execution_count": 6,
     "metadata": {},
     "output_type": "execute_result"
    }
   ],
   "source": [
    "sum(purchase_df.duplicated()) # Check duplicated values"
   ]
  },
  {
   "cell_type": "markdown",
   "metadata": {},
   "source": [
    "> There are 58,693 purchase records with 23 features in this dataset. The dataset does not contain missing nor duplicated values. The explanation of each feature is as follows: \n",
    ">- ID (numerical): a unique identificator of a customer.\t\n",
    ">- Day\t(numerical) when the customer has visited the store.  \t\t\t\t\n",
    ">- Incidence\t(categorical) Purchase Incidence. Did the customer purchase a product?\n",
    "\t\t0\tThe customer has not purchased an item from the category of interest \t\n",
    "\t\t1\tThe customer has purchased an item from the category of interest \t\n",
    ">- Brand\t(categorical) Shows which brand the customer has purchased.\t\n",
    "                0\tNo brand was purchased\t\n",
    "\t\t1,2,3,4,5\tChocolate Product Brand ID\t\t\t\t\t\n",
    ">- Quantity\t(numerical)\tNumber of items bought by the customer from the product category of interest\t\n",
    ">- Last_Inc_Brand\t(categorical)\tShows which brand the customer has purchased on their previous store visit\t\n",
    "                0\tNo brand was purchased\t\n",
    "\t\t1,2,3,4,5\tChocolate Product Brand ID\t\n",
    ">- Last_Inc_Quantity (numerical)\tNumber of items bought by the customer from the product category of interest during their previous store visit.\t\t\t\t\t\n",
    ">- Price_1,2,3,4,5\t(numerical)\tPrice of an item from Brand 1,2,3,4,5 on a particular day\t\n",
    ">- Promotion_1,2,3,4,5 (categorical) Indicator whether Brand 1,2,3,4,5 was on promotion or not on a particular day\t\n",
    "> Rest features (Sex, Marital status, Age, Education, Income, Occupation, Settlement size) are consistent with the features in demographic dataset. \n",
    "\n",
    "\n"
   ]
  },
  {
   "cell_type": "markdown",
   "metadata": {},
   "source": [
    "### ii. Data Segmentation based on Part 1\n",
    "#### Import Segmentation Model"
   ]
  },
  {
   "cell_type": "code",
   "execution_count": 7,
   "metadata": {},
   "outputs": [],
   "source": [
    "scaler = pickle.load(open('scaler.pickle', 'rb'))\n",
    "pca = pickle.load(open('pca.pickle', 'rb'))\n",
    "kmeans_pca = pickle.load(open('kmeans_pca.pickle', 'rb'))"
   ]
  },
  {
   "cell_type": "markdown",
   "metadata": {},
   "source": [
    "#### Standardisation of  Demographic Features "
   ]
  },
  {
   "cell_type": "code",
   "execution_count": 8,
   "metadata": {},
   "outputs": [],
   "source": [
    "features = purchase_df[['Sex', 'Marital status', 'Age', 'Education', 'Income', 'Occupation', 'Settlement size']]\n",
    "purchase_segm_std = scaler.transform(features)"
   ]
  },
  {
   "cell_type": "markdown",
   "metadata": {},
   "source": [
    "#### PCA Transformation "
   ]
  },
  {
   "cell_type": "code",
   "execution_count": 9,
   "metadata": {},
   "outputs": [],
   "source": [
    "purchase_segm_pca = pca.transform(purchase_segm_std)"
   ]
  },
  {
   "cell_type": "markdown",
   "metadata": {},
   "source": [
    "#### K-means Clustering with PCA"
   ]
  },
  {
   "cell_type": "code",
   "execution_count": 10,
   "metadata": {},
   "outputs": [],
   "source": [
    "# Predict clusters based on K-means Clustering with PCA\n",
    "purchase_segm_kmeans_pca= kmeans_pca.predict(purchase_segm_pca)"
   ]
  },
  {
   "cell_type": "code",
   "execution_count": 11,
   "metadata": {},
   "outputs": [],
   "source": [
    "# Checkpoint \n",
    "purchase_predictors = purchase_df.copy()"
   ]
  },
  {
   "cell_type": "code",
   "execution_count": 12,
   "metadata": {
    "scrolled": true
   },
   "outputs": [
    {
     "data": {
      "text/html": [
       "<div>\n",
       "<style scoped>\n",
       "    .dataframe tbody tr th:only-of-type {\n",
       "        vertical-align: middle;\n",
       "    }\n",
       "\n",
       "    .dataframe tbody tr th {\n",
       "        vertical-align: top;\n",
       "    }\n",
       "\n",
       "    .dataframe thead th {\n",
       "        text-align: right;\n",
       "    }\n",
       "</style>\n",
       "<table border=\"1\" class=\"dataframe\">\n",
       "  <thead>\n",
       "    <tr style=\"text-align: right;\">\n",
       "      <th></th>\n",
       "      <th>ID</th>\n",
       "      <th>Day</th>\n",
       "      <th>Incidence</th>\n",
       "      <th>Brand</th>\n",
       "      <th>Quantity</th>\n",
       "      <th>Last_Inc_Brand</th>\n",
       "      <th>Last_Inc_Quantity</th>\n",
       "      <th>Price_1</th>\n",
       "      <th>Price_2</th>\n",
       "      <th>Price_3</th>\n",
       "      <th>...</th>\n",
       "      <th>Promotion_4</th>\n",
       "      <th>Promotion_5</th>\n",
       "      <th>Sex</th>\n",
       "      <th>Marital status</th>\n",
       "      <th>Age</th>\n",
       "      <th>Education</th>\n",
       "      <th>Income</th>\n",
       "      <th>Occupation</th>\n",
       "      <th>Settlement size</th>\n",
       "      <th>Segment</th>\n",
       "    </tr>\n",
       "  </thead>\n",
       "  <tbody>\n",
       "    <tr>\n",
       "      <th>0</th>\n",
       "      <td>200000001</td>\n",
       "      <td>1</td>\n",
       "      <td>0</td>\n",
       "      <td>0</td>\n",
       "      <td>0</td>\n",
       "      <td>0</td>\n",
       "      <td>0</td>\n",
       "      <td>1.59</td>\n",
       "      <td>1.87</td>\n",
       "      <td>2.01</td>\n",
       "      <td>...</td>\n",
       "      <td>0</td>\n",
       "      <td>0</td>\n",
       "      <td>0</td>\n",
       "      <td>0</td>\n",
       "      <td>47</td>\n",
       "      <td>1</td>\n",
       "      <td>110866</td>\n",
       "      <td>1</td>\n",
       "      <td>0</td>\n",
       "      <td>0</td>\n",
       "    </tr>\n",
       "    <tr>\n",
       "      <th>1</th>\n",
       "      <td>200000001</td>\n",
       "      <td>11</td>\n",
       "      <td>0</td>\n",
       "      <td>0</td>\n",
       "      <td>0</td>\n",
       "      <td>0</td>\n",
       "      <td>0</td>\n",
       "      <td>1.51</td>\n",
       "      <td>1.89</td>\n",
       "      <td>1.99</td>\n",
       "      <td>...</td>\n",
       "      <td>0</td>\n",
       "      <td>0</td>\n",
       "      <td>0</td>\n",
       "      <td>0</td>\n",
       "      <td>47</td>\n",
       "      <td>1</td>\n",
       "      <td>110866</td>\n",
       "      <td>1</td>\n",
       "      <td>0</td>\n",
       "      <td>0</td>\n",
       "    </tr>\n",
       "    <tr>\n",
       "      <th>2</th>\n",
       "      <td>200000001</td>\n",
       "      <td>12</td>\n",
       "      <td>0</td>\n",
       "      <td>0</td>\n",
       "      <td>0</td>\n",
       "      <td>0</td>\n",
       "      <td>0</td>\n",
       "      <td>1.51</td>\n",
       "      <td>1.89</td>\n",
       "      <td>1.99</td>\n",
       "      <td>...</td>\n",
       "      <td>0</td>\n",
       "      <td>0</td>\n",
       "      <td>0</td>\n",
       "      <td>0</td>\n",
       "      <td>47</td>\n",
       "      <td>1</td>\n",
       "      <td>110866</td>\n",
       "      <td>1</td>\n",
       "      <td>0</td>\n",
       "      <td>0</td>\n",
       "    </tr>\n",
       "    <tr>\n",
       "      <th>3</th>\n",
       "      <td>200000001</td>\n",
       "      <td>16</td>\n",
       "      <td>0</td>\n",
       "      <td>0</td>\n",
       "      <td>0</td>\n",
       "      <td>0</td>\n",
       "      <td>0</td>\n",
       "      <td>1.52</td>\n",
       "      <td>1.89</td>\n",
       "      <td>1.98</td>\n",
       "      <td>...</td>\n",
       "      <td>0</td>\n",
       "      <td>0</td>\n",
       "      <td>0</td>\n",
       "      <td>0</td>\n",
       "      <td>47</td>\n",
       "      <td>1</td>\n",
       "      <td>110866</td>\n",
       "      <td>1</td>\n",
       "      <td>0</td>\n",
       "      <td>0</td>\n",
       "    </tr>\n",
       "    <tr>\n",
       "      <th>4</th>\n",
       "      <td>200000001</td>\n",
       "      <td>18</td>\n",
       "      <td>0</td>\n",
       "      <td>0</td>\n",
       "      <td>0</td>\n",
       "      <td>0</td>\n",
       "      <td>0</td>\n",
       "      <td>1.52</td>\n",
       "      <td>1.89</td>\n",
       "      <td>1.99</td>\n",
       "      <td>...</td>\n",
       "      <td>0</td>\n",
       "      <td>0</td>\n",
       "      <td>0</td>\n",
       "      <td>0</td>\n",
       "      <td>47</td>\n",
       "      <td>1</td>\n",
       "      <td>110866</td>\n",
       "      <td>1</td>\n",
       "      <td>0</td>\n",
       "      <td>0</td>\n",
       "    </tr>\n",
       "  </tbody>\n",
       "</table>\n",
       "<p>5 rows × 25 columns</p>\n",
       "</div>"
      ],
      "text/plain": [
       "          ID  Day  Incidence  Brand  Quantity  Last_Inc_Brand  \\\n",
       "0  200000001    1          0      0         0               0   \n",
       "1  200000001   11          0      0         0               0   \n",
       "2  200000001   12          0      0         0               0   \n",
       "3  200000001   16          0      0         0               0   \n",
       "4  200000001   18          0      0         0               0   \n",
       "\n",
       "   Last_Inc_Quantity  Price_1  Price_2  Price_3  ...  Promotion_4  \\\n",
       "0                  0     1.59     1.87     2.01  ...            0   \n",
       "1                  0     1.51     1.89     1.99  ...            0   \n",
       "2                  0     1.51     1.89     1.99  ...            0   \n",
       "3                  0     1.52     1.89     1.98  ...            0   \n",
       "4                  0     1.52     1.89     1.99  ...            0   \n",
       "\n",
       "   Promotion_5  Sex  Marital status  Age  Education  Income  Occupation  \\\n",
       "0            0    0               0   47          1  110866           1   \n",
       "1            0    0               0   47          1  110866           1   \n",
       "2            0    0               0   47          1  110866           1   \n",
       "3            0    0               0   47          1  110866           1   \n",
       "4            0    0               0   47          1  110866           1   \n",
       "\n",
       "   Settlement size  Segment  \n",
       "0                0        0  \n",
       "1                0        0  \n",
       "2                0        0  \n",
       "3                0        0  \n",
       "4                0        0  \n",
       "\n",
       "[5 rows x 25 columns]"
      ]
     },
     "execution_count": 12,
     "metadata": {},
     "output_type": "execute_result"
    }
   ],
   "source": [
    "purchase_predictors['Segment'] = purchase_segm_kmeans_pca\n",
    "purchase_predictors= purchase_predictors.reset_index()\n",
    "purchase_predictors.head()"
   ]
  },
  {
   "cell_type": "markdown",
   "metadata": {},
   "source": [
    "### iii. Descriptive Analysis by Segments\n",
    "\n",
    "In this section, I focus on descriptive analysis of the purchase data by individuals and then by segments to gain insight into customer shopping habits. \n",
    "- iii-1. The Proportion of each Segment\n",
    "- iii-2. Purchase Occasions and Purchase Incidences: How often each segment group go shopping?\n",
    "- iii-3. Brand Chocie: Which brand of products the customers purchase?\n",
    "- iii-4. Revenue Comparison between segments: How much money they spend?"
   ]
  },
  {
   "cell_type": "markdown",
   "metadata": {},
   "source": [
    "### iii-1. Segment Proportion \n",
    "\n",
    "Based on the customer data from the company's loyalty program, I firstly compare the size of each segment. To do so, i aggregated the data by Customers then group by each segment. \n"
   ]
  },
  {
   "cell_type": "markdown",
   "metadata": {},
   "source": [
    "#### Aggregate the Data by Customers  "
   ]
  },
  {
   "cell_type": "code",
   "execution_count": 13,
   "metadata": {},
   "outputs": [
    {
     "data": {
      "text/html": [
       "<div>\n",
       "<style scoped>\n",
       "    .dataframe tbody tr th:only-of-type {\n",
       "        vertical-align: middle;\n",
       "    }\n",
       "\n",
       "    .dataframe tbody tr th {\n",
       "        vertical-align: top;\n",
       "    }\n",
       "\n",
       "    .dataframe thead th {\n",
       "        text-align: right;\n",
       "    }\n",
       "</style>\n",
       "<table border=\"1\" class=\"dataframe\">\n",
       "  <thead>\n",
       "    <tr style=\"text-align: right;\">\n",
       "      <th></th>\n",
       "      <th>N_Visits</th>\n",
       "      <th>N_Purchases</th>\n",
       "      <th>Avg_N_Purchases</th>\n",
       "      <th>Segment</th>\n",
       "    </tr>\n",
       "    <tr>\n",
       "      <th>ID</th>\n",
       "      <th></th>\n",
       "      <th></th>\n",
       "      <th></th>\n",
       "      <th></th>\n",
       "    </tr>\n",
       "  </thead>\n",
       "  <tbody>\n",
       "    <tr>\n",
       "      <th>200000001</th>\n",
       "      <td>101</td>\n",
       "      <td>9</td>\n",
       "      <td>0.089109</td>\n",
       "      <td>0</td>\n",
       "    </tr>\n",
       "    <tr>\n",
       "      <th>200000002</th>\n",
       "      <td>87</td>\n",
       "      <td>11</td>\n",
       "      <td>0.126437</td>\n",
       "      <td>3</td>\n",
       "    </tr>\n",
       "    <tr>\n",
       "      <th>200000003</th>\n",
       "      <td>97</td>\n",
       "      <td>10</td>\n",
       "      <td>0.103093</td>\n",
       "      <td>0</td>\n",
       "    </tr>\n",
       "    <tr>\n",
       "      <th>200000004</th>\n",
       "      <td>85</td>\n",
       "      <td>11</td>\n",
       "      <td>0.129412</td>\n",
       "      <td>0</td>\n",
       "    </tr>\n",
       "    <tr>\n",
       "      <th>200000005</th>\n",
       "      <td>111</td>\n",
       "      <td>13</td>\n",
       "      <td>0.117117</td>\n",
       "      <td>1</td>\n",
       "    </tr>\n",
       "  </tbody>\n",
       "</table>\n",
       "</div>"
      ],
      "text/plain": [
       "           N_Visits  N_Purchases  Avg_N_Purchases  Segment\n",
       "ID                                                        \n",
       "200000001       101            9         0.089109        0\n",
       "200000002        87           11         0.126437        3\n",
       "200000003        97           10         0.103093        0\n",
       "200000004        85           11         0.129412        0\n",
       "200000005       111           13         0.117117        1"
      ]
     },
     "execution_count": 13,
     "metadata": {},
     "output_type": "execute_result"
    }
   ],
   "source": [
    "traffic_freq = purchase_predictors[['ID','Incidence']].groupby(['ID']).count()\n",
    "purchase_freq = purchase_predictors[['ID','Incidence']].groupby(['ID']).sum()\n",
    "segm_info = purchase_predictors[['ID', 'Segment']].groupby(['ID']).mean()\n",
    "\n",
    "traffic_freq = traffic_freq.rename(columns = {'Incidence': 'N_Visits'})\n",
    "purchase_freq = purchase_freq.rename(columns = {'Incidence': 'N_Purchases'})\n",
    "\n",
    "# Average number of purchases by customer ID\n",
    "df_customer = traffic_freq.join(purchase_freq)\n",
    "df_customer['Avg_N_Purchases'] = df_customer.N_Purchases/ df_customer.N_Visits\n",
    "\n",
    "purchase_descr = df_customer.join(segm_info)\n",
    "purchase_descr.head()"
   ]
  },
  {
   "cell_type": "markdown",
   "metadata": {},
   "source": [
    "#### Group-by each segment"
   ]
  },
  {
   "cell_type": "code",
   "execution_count": 14,
   "metadata": {
    "scrolled": true
   },
   "outputs": [
    {
     "data": {
      "text/html": [
       "<div>\n",
       "<style scoped>\n",
       "    .dataframe tbody tr th:only-of-type {\n",
       "        vertical-align: middle;\n",
       "    }\n",
       "\n",
       "    .dataframe tbody tr th {\n",
       "        vertical-align: top;\n",
       "    }\n",
       "\n",
       "    .dataframe thead th {\n",
       "        text-align: right;\n",
       "    }\n",
       "</style>\n",
       "<table border=\"1\" class=\"dataframe\">\n",
       "  <thead>\n",
       "    <tr style=\"text-align: right;\">\n",
       "      <th></th>\n",
       "      <th>Segment</th>\n",
       "      <th>Segment Proportions</th>\n",
       "    </tr>\n",
       "  </thead>\n",
       "  <tbody>\n",
       "    <tr>\n",
       "      <th>0</th>\n",
       "      <td>Fewer-Opportunities</td>\n",
       "      <td>0.378</td>\n",
       "    </tr>\n",
       "    <tr>\n",
       "      <th>1</th>\n",
       "      <td>Career-Focused</td>\n",
       "      <td>0.222</td>\n",
       "    </tr>\n",
       "    <tr>\n",
       "      <th>2</th>\n",
       "      <td>Standard</td>\n",
       "      <td>0.206</td>\n",
       "    </tr>\n",
       "    <tr>\n",
       "      <th>3</th>\n",
       "      <td>Well-Off</td>\n",
       "      <td>0.194</td>\n",
       "    </tr>\n",
       "  </tbody>\n",
       "</table>\n",
       "</div>"
      ],
      "text/plain": [
       "               Segment  Segment Proportions\n",
       "0  Fewer-Opportunities                0.378\n",
       "1       Career-Focused                0.222\n",
       "2             Standard                0.206\n",
       "3             Well-Off                0.194"
      ]
     },
     "execution_count": 14,
     "metadata": {},
     "output_type": "execute_result"
    }
   ],
   "source": [
    "# Calculate the proportions of each segment and set the appropriate column name. \n",
    "segm_prop = purchase_descr[['N_Visits', 'Segment']].groupby(['Segment']).count() / purchase_descr.shape[0]\n",
    "segm_prop = segm_prop.rename(columns = {'N_Visits': 'Segment Proportions'}).reset_index()\n",
    "segm_prop.Segment.replace({0: 'Fewer-Opportunities', 1: 'Career-Focused',   2: \"Standard\", 3:\"Well-Off\"}, inplace=True)\n",
    "segm_prop.head()"
   ]
  },
  {
   "cell_type": "code",
   "execution_count": 15,
   "metadata": {},
   "outputs": [
    {
     "data": {
      "text/plain": [
       "Text(0.5, 1.0, 'Average Proportion of Purchases by Segment')"
      ]
     },
     "execution_count": 15,
     "metadata": {},
     "output_type": "execute_result"
    },
    {
     "data": {
      "image/png": "[encoded data removed]",
      "text/plain": [
       "<Figure size 504x360 with 1 Axes>"
      ]
     },
     "metadata": {},
     "output_type": "display_data"
    }
   ],
   "source": [
    "plt.figure(figsize=[7,5])\n",
    "sns.barplot(data = segm_prop, x = 'Segment', y = 'Segment Proportions')\n",
    "plt.xlabel('Segment', fontsize = 12)\n",
    "plt.ylabel('Averag Purchase Incidences ', fontsize = 12)\n",
    "plt.title('Average Proportion of Purchases by Segment', fontsize = 15)"
   ]
  },
  {
   "cell_type": "markdown",
   "metadata": {},
   "source": [
    "> The largest segment is \"Fewer-Opportunities\". Almost 40 percent of customers belong to this segment. The second largest segment is   \"career-focused\". 22.2 % of customers are in this segment. The proportion of the other groups \"Standard\" and \"Well-Off\" are simiar to ca. 20%."
   ]
  },
  {
   "cell_type": "markdown",
   "metadata": {},
   "source": [
    "### iii-2. Purchase Occasions and Purchase Incidences"
   ]
  },
  {
   "cell_type": "code",
   "execution_count": 16,
   "metadata": {
    "scrolled": true
   },
   "outputs": [
    {
     "data": {
      "text/html": [
       "<div>\n",
       "<style scoped>\n",
       "    .dataframe tbody tr th:only-of-type {\n",
       "        vertical-align: middle;\n",
       "    }\n",
       "\n",
       "    .dataframe tbody tr th {\n",
       "        vertical-align: top;\n",
       "    }\n",
       "\n",
       "    .dataframe thead th {\n",
       "        text-align: right;\n",
       "    }\n",
       "</style>\n",
       "<table border=\"1\" class=\"dataframe\">\n",
       "  <thead>\n",
       "    <tr style=\"text-align: right;\">\n",
       "      <th></th>\n",
       "      <th>Segment</th>\n",
       "      <th>N_Visits</th>\n",
       "      <th>N_Purchases</th>\n",
       "      <th>Avg_N_Purchases</th>\n",
       "    </tr>\n",
       "  </thead>\n",
       "  <tbody>\n",
       "    <tr>\n",
       "      <th>0</th>\n",
       "      <td>Fewer-Opportunities</td>\n",
       "      <td>113.894180</td>\n",
       "      <td>22.793651</td>\n",
       "      <td>0.201679</td>\n",
       "    </tr>\n",
       "    <tr>\n",
       "      <th>1</th>\n",
       "      <td>Career-Focused</td>\n",
       "      <td>123.216216</td>\n",
       "      <td>39.603604</td>\n",
       "      <td>0.281944</td>\n",
       "    </tr>\n",
       "    <tr>\n",
       "      <th>2</th>\n",
       "      <td>Standard</td>\n",
       "      <td>117.699029</td>\n",
       "      <td>24.902913</td>\n",
       "      <td>0.212773</td>\n",
       "    </tr>\n",
       "    <tr>\n",
       "      <th>3</th>\n",
       "      <td>Well-Off</td>\n",
       "      <td>117.185567</td>\n",
       "      <td>34.731959</td>\n",
       "      <td>0.285639</td>\n",
       "    </tr>\n",
       "  </tbody>\n",
       "</table>\n",
       "</div>"
      ],
      "text/plain": [
       "               Segment    N_Visits  N_Purchases  Avg_N_Purchases\n",
       "0  Fewer-Opportunities  113.894180    22.793651         0.201679\n",
       "1       Career-Focused  123.216216    39.603604         0.281944\n",
       "2             Standard  117.699029    24.902913         0.212773\n",
       "3             Well-Off  117.185567    34.731959         0.285639"
      ]
     },
     "execution_count": 16,
     "metadata": {},
     "output_type": "execute_result"
    }
   ],
   "source": [
    "# Calculate the mean by the four segments to determine the average customer behaivour in each segment.\n",
    "segments_mean = purchase_descr.groupby(['Segment']).mean().reset_index()\n",
    "segments_mean.Segment.replace({0: 'Fewer-Opportunities', 1: 'Career-Focused',   2: \"Standard\", 3:\"Well-Off\"}, inplace=True)\n",
    "segments_mean"
   ]
  },
  {
   "cell_type": "code",
   "execution_count": 17,
   "metadata": {},
   "outputs": [],
   "source": [
    "# Calculate the standard deviation by segments. It determines how homogoneus each of the segments is.\n",
    "segments_std = purchase_descr.groupby(['Segment']).std()"
   ]
  },
  {
   "cell_type": "code",
   "execution_count": 18,
   "metadata": {},
   "outputs": [
    {
     "data": {
      "text/plain": [
       "Text(0.5, 1.0, 'Average Proportion of Purchases by Segment')"
      ]
     },
     "execution_count": 18,
     "metadata": {},
     "output_type": "execute_result"
    },
    {
     "data": {
      "image/png": "[encoded data removed]",
      "text/plain": [
       "<Figure size 504x360 with 1 Axes>"
      ]
     },
     "metadata": {},
     "output_type": "display_data"
    }
   ],
   "source": [
    "# Plot the average proportion of purchases.\n",
    "avg_N_Purchase_in_percentage = segments_mean.Avg_N_Purchases*100\n",
    "plt.figure(figsize=[7,5])\n",
    "sns.barplot(data = segments_mean, x = 'Segment', y = 'Avg_N_Purchases',\n",
    "              yerr = segments_std['Avg_N_Purchases'])\n",
    "plt.xlabel('Segment', fontsize = 12)\n",
    "plt.ylabel('Averag Purchase Incidences ', fontsize = 12)\n",
    "plt.title('Average Proportion of Purchases by Segment', fontsize = 15)"
   ]
  },
  {
   "cell_type": "markdown",
   "metadata": {},
   "source": [
    "### iii-3. Brand Choice \n",
    "\n",
    ">Now we come to our second very big question which brand is the customer going to choose in this lesson we will be interested in brand choice alone. This means we'll focus only on the observations where customers have bought at least one chocolate candy bar."
   ]
  },
  {
   "cell_type": "code",
   "execution_count": 19,
   "metadata": {},
   "outputs": [
    {
     "data": {
      "text/plain": [
       "(14638, 25)"
      ]
     },
     "execution_count": 19,
     "metadata": {},
     "output_type": "execute_result"
    }
   ],
   "source": [
    "# Select only rows where incidence is 1. This means that I filtered the times a purchase was made.\n",
    "purchase_incidence = purchase_predictors.query('Incidence ==1')\n",
    "purchase_incidence.shape"
   ]
  },
  {
   "cell_type": "code",
   "execution_count": 20,
   "metadata": {},
   "outputs": [
    {
     "data": {
      "text/html": [
       "<div>\n",
       "<style scoped>\n",
       "    .dataframe tbody tr th:only-of-type {\n",
       "        vertical-align: middle;\n",
       "    }\n",
       "\n",
       "    .dataframe tbody tr th {\n",
       "        vertical-align: top;\n",
       "    }\n",
       "\n",
       "    .dataframe thead th {\n",
       "        text-align: right;\n",
       "    }\n",
       "</style>\n",
       "<table border=\"1\" class=\"dataframe\">\n",
       "  <thead>\n",
       "    <tr style=\"text-align: right;\">\n",
       "      <th></th>\n",
       "      <th>Brand_1</th>\n",
       "      <th>Brand_2</th>\n",
       "      <th>Brand_3</th>\n",
       "      <th>Brand_4</th>\n",
       "      <th>Brand_5</th>\n",
       "      <th>Segment</th>\n",
       "      <th>ID</th>\n",
       "    </tr>\n",
       "  </thead>\n",
       "  <tbody>\n",
       "    <tr>\n",
       "      <th>6</th>\n",
       "      <td>0</td>\n",
       "      <td>1</td>\n",
       "      <td>0</td>\n",
       "      <td>0</td>\n",
       "      <td>0</td>\n",
       "      <td>0</td>\n",
       "      <td>200000001</td>\n",
       "    </tr>\n",
       "    <tr>\n",
       "      <th>11</th>\n",
       "      <td>0</td>\n",
       "      <td>0</td>\n",
       "      <td>0</td>\n",
       "      <td>0</td>\n",
       "      <td>1</td>\n",
       "      <td>0</td>\n",
       "      <td>200000001</td>\n",
       "    </tr>\n",
       "    <tr>\n",
       "      <th>19</th>\n",
       "      <td>1</td>\n",
       "      <td>0</td>\n",
       "      <td>0</td>\n",
       "      <td>0</td>\n",
       "      <td>0</td>\n",
       "      <td>0</td>\n",
       "      <td>200000001</td>\n",
       "    </tr>\n",
       "    <tr>\n",
       "      <th>24</th>\n",
       "      <td>0</td>\n",
       "      <td>0</td>\n",
       "      <td>0</td>\n",
       "      <td>1</td>\n",
       "      <td>0</td>\n",
       "      <td>0</td>\n",
       "      <td>200000001</td>\n",
       "    </tr>\n",
       "    <tr>\n",
       "      <th>29</th>\n",
       "      <td>0</td>\n",
       "      <td>1</td>\n",
       "      <td>0</td>\n",
       "      <td>0</td>\n",
       "      <td>0</td>\n",
       "      <td>0</td>\n",
       "      <td>200000001</td>\n",
       "    </tr>\n",
       "    <tr>\n",
       "      <th>...</th>\n",
       "      <td>...</td>\n",
       "      <td>...</td>\n",
       "      <td>...</td>\n",
       "      <td>...</td>\n",
       "      <td>...</td>\n",
       "      <td>...</td>\n",
       "      <td>...</td>\n",
       "    </tr>\n",
       "    <tr>\n",
       "      <th>58621</th>\n",
       "      <td>0</td>\n",
       "      <td>1</td>\n",
       "      <td>0</td>\n",
       "      <td>0</td>\n",
       "      <td>0</td>\n",
       "      <td>0</td>\n",
       "      <td>200000500</td>\n",
       "    </tr>\n",
       "    <tr>\n",
       "      <th>58648</th>\n",
       "      <td>1</td>\n",
       "      <td>0</td>\n",
       "      <td>0</td>\n",
       "      <td>0</td>\n",
       "      <td>0</td>\n",
       "      <td>0</td>\n",
       "      <td>200000500</td>\n",
       "    </tr>\n",
       "    <tr>\n",
       "      <th>58674</th>\n",
       "      <td>0</td>\n",
       "      <td>1</td>\n",
       "      <td>0</td>\n",
       "      <td>0</td>\n",
       "      <td>0</td>\n",
       "      <td>0</td>\n",
       "      <td>200000500</td>\n",
       "    </tr>\n",
       "    <tr>\n",
       "      <th>58687</th>\n",
       "      <td>0</td>\n",
       "      <td>1</td>\n",
       "      <td>0</td>\n",
       "      <td>0</td>\n",
       "      <td>0</td>\n",
       "      <td>0</td>\n",
       "      <td>200000500</td>\n",
       "    </tr>\n",
       "    <tr>\n",
       "      <th>58691</th>\n",
       "      <td>0</td>\n",
       "      <td>1</td>\n",
       "      <td>0</td>\n",
       "      <td>0</td>\n",
       "      <td>0</td>\n",
       "      <td>0</td>\n",
       "      <td>200000500</td>\n",
       "    </tr>\n",
       "  </tbody>\n",
       "</table>\n",
       "<p>14638 rows × 7 columns</p>\n",
       "</div>"
      ],
      "text/plain": [
       "       Brand_1  Brand_2  Brand_3  Brand_4  Brand_5  Segment         ID\n",
       "6            0        1        0        0        0        0  200000001\n",
       "11           0        0        0        0        1        0  200000001\n",
       "19           1        0        0        0        0        0  200000001\n",
       "24           0        0        0        1        0        0  200000001\n",
       "29           0        1        0        0        0        0  200000001\n",
       "...        ...      ...      ...      ...      ...      ...        ...\n",
       "58621        0        1        0        0        0        0  200000500\n",
       "58648        1        0        0        0        0        0  200000500\n",
       "58674        0        1        0        0        0        0  200000500\n",
       "58687        0        1        0        0        0        0  200000500\n",
       "58691        0        1        0        0        0        0  200000500\n",
       "\n",
       "[14638 rows x 7 columns]"
      ]
     },
     "execution_count": 20,
     "metadata": {},
     "output_type": "execute_result"
    }
   ],
   "source": [
    "# Here we make dummies for each of the five brands.\n",
    "brand_dummies = pd.get_dummies(purchase_incidence['Brand'], prefix = 'Brand', prefix_sep = '_')\n",
    "brand_dummies['Segment'], brand_dummies['ID'] = purchase_incidence['Segment'], purchase_incidence['ID']\n",
    "brand_dummies"
   ]
  },
  {
   "cell_type": "code",
   "execution_count": 21,
   "metadata": {},
   "outputs": [],
   "source": [
    "brand_ID = brand_dummies.groupby(['ID'], as_index = True).mean() # group by each customer"
   ]
  },
  {
   "cell_type": "code",
   "execution_count": 22,
   "metadata": {},
   "outputs": [],
   "source": [
    "mean_brand_segment = brand_ID.groupby(['Segment'], as_index = True).mean() # group by each segment"
   ]
  },
  {
   "cell_type": "code",
   "execution_count": 23,
   "metadata": {},
   "outputs": [
    {
     "data": {
      "image/png": "[encoded data removed]",
      "text/plain": [
       "<Figure size 720x360 with 2 Axes>"
      ]
     },
     "metadata": {},
     "output_type": "display_data"
    }
   ],
   "source": [
    "plt.figure(figsize=[10,5])\n",
    "sns.heatmap(mean_brand_segment, vmin = 0, vmax = 1, cmap = 'PuBu', annot = True)\n",
    "plt.yticks([0, 1, 2, 3], ['Fewer-Opportunities', 'Career-Focused', 'Standard', 'Well-Off'], rotation = 10, fontsize = 9)\n",
    "plt.title('Average Brand Choice by Segment')\n",
    "plt.show()"
   ]
  },
  {
   "cell_type": "markdown",
   "metadata": {},
   "source": [
    "> Note that each chocolate brands are listed in ascending order of price. This means that brand 1 is the cheapest brand, while brand 5 is the most expensive one. \n",
    ">- \"Fewer-opportunities\" segment shows an extremely strong preference for brand_2. almost 70 percent of the segment chooses this brand of chocolate. Brand_2 Chocolate certainly isn't the cheapest one. Thus, we can guess that the price of chocolate bars isn't really matters to our customers to purchase. \n",
    ">- \"Career-Focused\" segment: ca. 63 percent of the career focus segment buys brand_5 which is the most expensive brand. It seems that this cluster of young ambitious career focused individuals enjoys this fancy candy bar with no additional information. It can be speculated that the career focus segment is looking for some kind of luxury status and this alone may be an opportunity to raise the price of brand 5 even further.\n",
    ">- The \"Well-Off\" segment enjoys one of the most luxurious brands but not the most expensive one. Brand_4 is the most popularly bought brand followed by brand_5. \n",
    ">- \"Standard\" segment is definitely the most heterogeneous segment. It seems that people from the standard segment have a preference for brand_2 and a weaker preference for brands 1 and 3. It's obvious this segment don't like buying brand 4. Nevertheless their preference is scattered all around. One idea could be to try to influence them to try to different brands.   \n",
    "\n"
   ]
  },
  {
   "cell_type": "markdown",
   "metadata": {},
   "source": [
    "### iii-4. Dissecting the Revenue by Segment\n",
    "\n",
    "In this section, I explore the revenue by segment. The revenue is calculated by multiplying product price with purchased quantity. "
   ]
  },
  {
   "cell_type": "code",
   "execution_count": 24,
   "metadata": {},
   "outputs": [
    {
     "name": "stderr",
     "output_type": "stream",
     "text": [
      "C:\\Users\\wonso\\anaconda3\\lib\\site-packages\\pandas\\core\\indexing.py:1596: SettingWithCopyWarning: \n",
      "A value is trying to be set on a copy of a slice from a DataFrame.\n",
      "Try using .loc[row_indexer,col_indexer] = value instead\n",
      "\n",
      "See the caveats in the documentation: https://pandas.pydata.org/pandas-docs/stable/user_guide/indexing.html#returning-a-view-versus-a-copy\n",
      "  self.obj[key] = _infer_fill_value(value)\n",
      "C:\\Users\\wonso\\anaconda3\\lib\\site-packages\\pandas\\core\\indexing.py:1745: SettingWithCopyWarning: \n",
      "A value is trying to be set on a copy of a slice from a DataFrame.\n",
      "Try using .loc[row_indexer,col_indexer] = value instead\n",
      "\n",
      "See the caveats in the documentation: https://pandas.pydata.org/pandas-docs/stable/user_guide/indexing.html#returning-a-view-versus-a-copy\n",
      "  isetter(ilocs[0], value)\n"
     ]
    }
   ],
   "source": [
    "# Filter the datapoints by each brand.\n",
    "brand_1 = purchase_predictors.query('Brand ==1')\n",
    "brand_2 = purchase_predictors.query('Brand ==2')\n",
    "brand_3 = purchase_predictors.query('Brand ==3')\n",
    "brand_4 = purchase_predictors.query('Brand ==4')\n",
    "brand_5 = purchase_predictors.query('Brand ==5')\n",
    "\n",
    "# Compute the revenue of each brand\n",
    "brand_1.loc[:, 'Revenue_Brand_1'] = brand_1['Price_1'] * brand_1['Quantity']\n",
    "brand_2.loc[:, 'Revenue_Brand_2'] = brand_2['Price_2'] * brand_2['Quantity']\n",
    "brand_3.loc[:, 'Revenue_Brand_3'] = brand_3['Price_3'] * brand_3['Quantity']\n",
    "brand_4.loc[:, 'Revenue_Brand_4'] = brand_4['Price_4'] * brand_4['Quantity']\n",
    "brand_5.loc[:, 'Revenue_Brand_5'] = brand_5['Price_5'] * brand_5['Quantity']\n",
    "\n",
    "# Aggregate the revenues \n",
    "brand_1_segm = brand_1.groupby('Segment')['Revenue_Brand_1'].sum()\n",
    "brand_2_segm = brand_2.groupby('Segment')['Revenue_Brand_2'].sum()\n",
    "brand_3_segm = brand_3.groupby('Segment')['Revenue_Brand_3'].sum()\n",
    "brand_4_segm = brand_4.groupby('Segment')['Revenue_Brand_4'].sum()\n",
    "brand_5_segm = brand_5.groupby('Segment')['Revenue_Brand_5'].sum()\n",
    "\n",
    "segments_brand_revenue = pd.DataFrame({'Segment' :  ['Fewer-Opportunities', 'Career-Focused', 'Standard', 'Well-Off'] ,\n",
    "                                      'Revenue_Brand_1': brand_1_segm.values, \n",
    "                                      'Revenue_Brand_2': brand_2_segm.values, \n",
    "                                      'Revenue_Brand_3': brand_3_segm.values, \n",
    "                                      'Revenue_Brand_4': brand_4_segm.values, \n",
    "                                      'Revenue_Brand_5': brand_5_segm.values})\n",
    "\n",
    "segments_brand_revenue.loc[:, 'Total_Rev'] = segments_brand_revenue.sum(axis =1)\n",
    "segments_brand_revenue.loc[:,'Segment Proportions'] = segm_prop['Segment Proportions']"
   ]
  },
  {
   "cell_type": "code",
   "execution_count": 25,
   "metadata": {
    "scrolled": false
   },
   "outputs": [
    {
     "data": {
      "text/html": [
       "<div>\n",
       "<style scoped>\n",
       "    .dataframe tbody tr th:only-of-type {\n",
       "        vertical-align: middle;\n",
       "    }\n",
       "\n",
       "    .dataframe tbody tr th {\n",
       "        vertical-align: top;\n",
       "    }\n",
       "\n",
       "    .dataframe thead th {\n",
       "        text-align: right;\n",
       "    }\n",
       "</style>\n",
       "<table border=\"1\" class=\"dataframe\">\n",
       "  <thead>\n",
       "    <tr style=\"text-align: right;\">\n",
       "      <th></th>\n",
       "      <th>Segment</th>\n",
       "      <th>Revenue_Brand_1</th>\n",
       "      <th>Revenue_Brand_2</th>\n",
       "      <th>Revenue_Brand_3</th>\n",
       "      <th>Revenue_Brand_4</th>\n",
       "      <th>Revenue_Brand_5</th>\n",
       "      <th>Total_Rev</th>\n",
       "      <th>Segment Proportions</th>\n",
       "    </tr>\n",
       "  </thead>\n",
       "  <tbody>\n",
       "    <tr>\n",
       "      <th>0</th>\n",
       "      <td>Fewer-Opportunities</td>\n",
       "      <td>2258.90</td>\n",
       "      <td>13909.78</td>\n",
       "      <td>722.06</td>\n",
       "      <td>1805.59</td>\n",
       "      <td>2214.82</td>\n",
       "      <td>20911.15</td>\n",
       "      <td>0.378</td>\n",
       "    </tr>\n",
       "    <tr>\n",
       "      <th>1</th>\n",
       "      <td>Career-Focused</td>\n",
       "      <td>736.09</td>\n",
       "      <td>1791.78</td>\n",
       "      <td>664.75</td>\n",
       "      <td>2363.84</td>\n",
       "      <td>19456.74</td>\n",
       "      <td>25013.20</td>\n",
       "      <td>0.222</td>\n",
       "    </tr>\n",
       "    <tr>\n",
       "      <th>2</th>\n",
       "      <td>Standard</td>\n",
       "      <td>2611.19</td>\n",
       "      <td>4768.52</td>\n",
       "      <td>3909.17</td>\n",
       "      <td>861.38</td>\n",
       "      <td>2439.75</td>\n",
       "      <td>14590.01</td>\n",
       "      <td>0.206</td>\n",
       "    </tr>\n",
       "    <tr>\n",
       "      <th>3</th>\n",
       "      <td>Well-Off</td>\n",
       "      <td>699.47</td>\n",
       "      <td>1298.23</td>\n",
       "      <td>725.54</td>\n",
       "      <td>14009.29</td>\n",
       "      <td>5509.69</td>\n",
       "      <td>22242.22</td>\n",
       "      <td>0.194</td>\n",
       "    </tr>\n",
       "  </tbody>\n",
       "</table>\n",
       "</div>"
      ],
      "text/plain": [
       "               Segment  Revenue_Brand_1  Revenue_Brand_2  Revenue_Brand_3  \\\n",
       "0  Fewer-Opportunities          2258.90         13909.78           722.06   \n",
       "1       Career-Focused           736.09          1791.78           664.75   \n",
       "2             Standard          2611.19          4768.52          3909.17   \n",
       "3             Well-Off           699.47          1298.23           725.54   \n",
       "\n",
       "   Revenue_Brand_4  Revenue_Brand_5  Total_Rev  Segment Proportions  \n",
       "0          1805.59          2214.82   20911.15                0.378  \n",
       "1          2363.84         19456.74   25013.20                0.222  \n",
       "2           861.38          2439.75   14590.01                0.206  \n",
       "3         14009.29          5509.69   22242.22                0.194  "
      ]
     },
     "execution_count": 25,
     "metadata": {},
     "output_type": "execute_result"
    }
   ],
   "source": [
    "segments_brand_revenue"
   ]
  },
  {
   "cell_type": "code",
   "execution_count": 26,
   "metadata": {},
   "outputs": [
    {
     "data": {
      "image/png": "[encoded data removed]",
      "text/plain": [
       "<Figure size 576x288 with 1 Axes>"
      ]
     },
     "metadata": {},
     "output_type": "display_data"
    }
   ],
   "source": [
    "brand_rev = segments_brand_revenue.iloc[:,1:6].sum(axis=0)\n",
    "ax = brand_rev.sort_values(ascending=False).plot(kind='barh', figsize=(8,4), color=\"b\", fontsize=13);\n",
    "ax.set_alpha(0.8)\n",
    "ax.set_title(\"Total Revenue per Brand\", fontsize=18)\n",
    "ax.set_xlabel(\"Total Revenue\", fontsize=18);\n",
    "\n",
    "# create a list to collect the plt.patches data\n",
    "totals = []\n",
    "# find the values and append to list\n",
    "for i in ax.patches:\n",
    "    totals.append(i.get_width())\n",
    "# set individual bar lables using above list\n",
    "total = sum(totals)\n",
    "# set individual bar lables using above list\n",
    "for i in ax.patches:\n",
    "    # get_width pulls left or right; get_y pushes up or down\n",
    "    ax.text(i.get_width()+.3, i.get_y()+.38, \\\n",
    "            str(round((i.get_width()), 2))+'$', fontsize=12, color='dimgrey')\n",
    "# invert for largest on top \n",
    "ax.invert_yaxis()"
   ]
  },
  {
   "cell_type": "markdown",
   "metadata": {},
   "source": [
    ">- Knowing that brand 3 has the lowest revenue compared to the other 4. It is the middle brand in terms of price its highest contributor is the \"Standard\" segment. As we've established they'd like the first three brands so they can be influenced to buy more of the\n",
    "third brand. Maybe if brand 3 reduces its price it is likely that the standard segment would pivot towards it.\n",
    ">- The customers of Brand 4 seem mainly from the \"Well-Off\" segment. The customers in this segment who didn't choose this brand bought an even more expensive alternative: Brand 5. Therefore they seem to be loyal and not really affected by price. Terefore brand 4 could try cautiously increasing its price. The hypothesis here is they'd likely retain most of its customers and increase the revenue per sale. "
   ]
  },
  {
   "cell_type": "code",
   "execution_count": 27,
   "metadata": {},
   "outputs": [
    {
     "data": {
      "text/plain": [
       "Text(0.5, 1.0, 'Total Revenue of Chocolate Products by Segment')"
      ]
     },
     "execution_count": 27,
     "metadata": {},
     "output_type": "execute_result"
    },
    {
     "data": {
      "image/png": "[encoded data removed]",
      "text/plain": [
       "<Figure size 504x360 with 1 Axes>"
      ]
     },
     "metadata": {},
     "output_type": "display_data"
    }
   ],
   "source": [
    "plt.figure(figsize=[7,5])\n",
    "sns.barplot(data = segments_brand_revenue, x = 'Segment', y = 'Total_Rev')\n",
    "plt.xlabel('Segment', fontsize = 13)\n",
    "plt.ylabel('Total Revenue ', fontsize = 13)\n",
    "plt.title('Total Revenue of Chocolate Products by Segment', fontsize = 15)"
   ]
  },
  {
   "cell_type": "markdown",
   "metadata": {},
   "source": [
    ">- \"Career-focused\" brings the most revenue followed by \"Well-Off\" and 'Fewer-Opportunities', while the 'Standard' segment accounts for the smallest part. In the table: segments_brand_revenue, there is a segment sizes column, next to the revenue apparently even though segment two career focused is the second largest it brings the highest revenue. This is a surprising finding. Previously we found out that \"Career-focused\" segment was buying the most expensive brand. Additiionally, it seems that they are by far the most prominent segment for the store with regard to chocolate candy bars. \n",
    ">- The size of \"Standard\" is almost equal to that of \"Career-focused\", but \"Standard\" segment brings less than half that revenue. In fact,\"Standard\" segment contributes the least of all segments in comparison. \n",
    ">- The  \"Well-Off\" and 'Fewer-Opportunities' segments spend around the same amount of money on chocolate. Note that 'Fewer-Opportunities' is  twice the size of \"Well-Off\" segment. \n",
    "\n",
    ">- So far we examine different measures together rather than independently. In the next part of anaylsis I focused on the point of view and explore the revenue table from a brand's perspective. "
   ]
  }
 ],
 "metadata": {
  "kernelspec": {
   "display_name": "Python 3",
   "language": "python",
   "name": "python3"
  },
  "language_info": {
   "codemirror_mode": {
    "name": "ipython",
    "version": 3
   },
   "file_extension": ".py",
   "mimetype": "text/x-python",
   "name": "python",
   "nbconvert_exporter": "python",
   "pygments_lexer": "ipython3",
   "version": "3.7.6"
  }
 },
 "nbformat": 4,
 "nbformat_minor": 4
}
